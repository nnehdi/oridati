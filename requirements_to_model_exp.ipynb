{
 "cells": [
  {
   "attachments": {},
   "cell_type": "markdown",
   "metadata": {},
   "source": [
    "# Expriment\n",
    "The main goal here is to develop a set of prompts to transform a project description to the data model (.prisma)"
   ]
  },
  {
   "attachments": {},
   "cell_type": "markdown",
   "metadata": {},
   "source": [
    "## Setup"
   ]
  },
  {
   "cell_type": "code",
   "execution_count": 3,
   "metadata": {},
   "outputs": [],
   "source": [
    "import openai\n",
    "import os\n",
    "\n",
    "from dotenv import load_dotenv, find_dotenv\n",
    "_ = load_dotenv(find_dotenv()) # read local .env file\n",
    "\n",
    "openai.api_key  = os.getenv('OPENAI_API_KEY')\n",
    "\n",
    "def get_completion(prompt, model=\"gpt-3.5-turbo\"):\n",
    "    messages = [{\"role\": \"user\", \"content\": prompt}]\n",
    "    response = openai.ChatCompletion.create(\n",
    "        model=model,\n",
    "        messages=messages,\n",
    "        temperature=0, # this is the degree of randomness of the model's output\n",
    "    )\n",
    "    return response.choices[0].message[\"content\"]"
   ]
  },
  {
   "cell_type": "code",
   "execution_count": 20,
   "metadata": {},
   "outputs": [
    {
     "name": "stdout",
     "output_type": "stream",
     "text": [
      "Project Idea: Develop a platform similar to Resident Advisor that provides information about upcoming music events, festivals, and concerts. The platform should allow users to search for events based on location, genre, and date. It should also provide users with the ability to purchase tickets and receive notifications about upcoming events. Additionally, the platform should have a feature that allows event organizers to create and manage their events, including ticket sales and promotion. \n",
      "\n",
      "No idea provided.\n"
     ]
    }
   ],
   "source": [
    "text = \"\"\"\n",
    "A platform like resident advisor\n",
    "\"\"\"\n",
    "prompt = f\"\"\"\n",
    "You will be provided with text delimited by triple quotes. \n",
    "If it contains a project idea, \\ \n",
    "Expand the idea to create a concise summary about the projct\n",
    "\n",
    "If the text does not contain a idea, \\ \n",
    "then simply write \\\"No  idea provided.\\\"\n",
    "```{text}```\n",
    "\"\"\"\n",
    "response = get_completion(prompt)\n",
    "print(response)"
   ]
  },
  {
   "cell_type": "code",
   "execution_count": 21,
   "metadata": {},
   "outputs": [
    {
     "name": "stdout",
     "output_type": "stream",
     "text": [
      "User Story 1 - As a music lover, I want to be able to search for upcoming events by location, genre, and date so that I can easily find events that interest me.\n",
      "User Story 2 - As a user, I want to be able to view detailed information about each event, including the lineup, venue, and ticket prices, so that I can make an informed decision about whether or not to attend.\n",
      "User Story 3 - As a music fan, I want to be able to create a profile to track my favorite artists so that I can stay up-to-date on their upcoming events.\n",
      "User Story 4 - As a user, I want to receive personalized recommendations for events based on my music preferences so that I can discover new artists and events that I may not have otherwise known about.\n",
      "User Story 5 - As a music event organizer, I want to be able to partner with the platform to promote my events and sell tickets so that I can reach a wider audience and increase ticket sales.\n"
     ]
    }
   ],
   "source": [
    "text = \"\"\"\n",
    "A platform similar to Resident Advisor that provides information about upcoming music events, festivals, and concerts. The platform would allow users to search for events by location, genre, and date, and would provide detailed information about each event, including the lineup, venue, and ticket prices. Users could also create profiles to track their favorite artists and receive personalized recommendations for events based on their music preferences. The platform could generate revenue through ticket sales and partnerships with event organizers and sponsors. \n",
    "\"\"\"\n",
    "prompt = f\"\"\"\n",
    "You will be provided with text delimited by triple quotes. \n",
    "If it contains a project description or idea, \\ \n",
    "re-write the project in terms of uesr stories in the following format:\n",
    "\n",
    "User Story 1 - ...\n",
    "User Story 2 - …\n",
    "…\n",
    "User Story N - …\n",
    "\n",
    "If the text does not contain a project description or idea, \\ \n",
    "then simply write \\\"No project description or idea provided.\\\"\n",
    "```{text}```\n",
    "\"\"\"\n",
    "response = get_completion(prompt)\n",
    "print(response)"
   ]
  },
  {
   "cell_type": "code",
   "execution_count": 22,
   "metadata": {},
   "outputs": [
    {
     "name": "stdout",
     "output_type": "stream",
     "text": [
      "User Persona 1 - Music Enthusiast: A person who loves attending live music events and is always looking for new and exciting experiences.\n",
      "User Persona 2 - Event Planner: A professional who is responsible for organizing music events and needs a platform to promote and sell tickets for their events.\n",
      "User Persona 3 - Tourist: A traveler who is visiting a new city and wants to explore the local music scene.\n",
      "User Persona 4 - Musician: An artist who wants to promote their music and connect with fans by performing at events listed on the platform.\n",
      "User Persona 5 - Sponsor: A company or brand that wants to reach a targeted audience of music enthusiasts and support events through sponsorship.\n"
     ]
    }
   ],
   "source": [
    "text = \"\"\"\n",
    "A platform similar to Resident Advisor that provides information about upcoming music events, festivals, and concerts. The platform would allow users to search for events by location, genre, and date, and would provide detailed information about each event, including the lineup, venue, and ticket prices. Users could also create profiles to track their favorite artists and receive personalized recommendations for events based on their music preferences. The platform could generate revenue through ticket sales and partnerships with event organizers and sponsors. \n",
    "\n",
    "\"\"\"\n",
    "prompt = f\"\"\"\n",
    "You will be provided with text delimited by triple quotes. \n",
    "If it contains a project description or idea, \\ \n",
    "List all the User Persona you can think of with a one sentence concise description in the following format:\n",
    "\n",
    "User Persona  1 - Name: Description\n",
    "User Persona  2 - Name: Description\n",
    "…\n",
    "User Persona  N - Name: Description\n",
    "\n",
    "If the text does not contain a project description or idea, \\ \n",
    "then simply write \\\"No project description or idea provided.\\\"\n",
    "```{text}```\n",
    "\"\"\"\n",
    "response = get_completion(prompt)\n",
    "print(response)"
   ]
  },
  {
   "cell_type": "code",
   "execution_count": 23,
   "metadata": {},
   "outputs": [
    {
     "name": "stdout",
     "output_type": "stream",
     "text": [
      "Data Entities 1 - Events: Information about upcoming music events, festivals, and concerts.\n",
      "Data Entities 2 - Location: The location of the event.\n",
      "Data Entities 3 - Genre: The genre of music for the event.\n",
      "Data Entities 4 - Date: The date of the event.\n",
      "Data Entities 5 - Lineup: The list of artists performing at the event.\n",
      "Data Entities 6 - Venue: The location where the event is being held.\n",
      "Data Entities 7 - Ticket prices: The cost of tickets for the event.\n",
      "Data Entities 8 - User profiles: Profiles created by users to track their favorite artists and receive personalized recommendations.\n",
      "Data Entities 9 - Music preferences: The music preferences of the user.\n",
      "Data Entities 10 - Revenue: The revenue generated through ticket sales and partnerships with event organizers and sponsors.\n"
     ]
    }
   ],
   "source": [
    "text = \"\"\"\n",
    "A platform similar to Resident Advisor that provides information about upcoming music events, festivals, and concerts. The platform would allow users to search for events by location, genre, and date, and would provide detailed information about each event, including the lineup, venue, and ticket prices. Users could also create profiles to track their favorite artists and receive personalized recommendations for events based on their music preferences. The platform could generate revenue through ticket sales and partnerships with event organizers and sponsors. \n",
    "\"\"\"\n",
    "prompt = f\"\"\"\n",
    "You will be provided with text delimited by triple quotes. \n",
    "If it contains a project description or idea, \\ \n",
    "List all the Data Entities you can think of with a one sentence concise description in the following format:\n",
    "\n",
    "Data Entities  1 - Name: Description\n",
    "Data Entities  2 - Name: Description\n",
    "…\n",
    "Data Entities  N - Name: Description\n",
    "\n",
    "If the text does not contain a project description or idea, \\ \n",
    "then simply write \\\"No project description or idea provided.\\\"\n",
    "```{text}```\n",
    "\"\"\"\n",
    "response = get_completion(prompt)\n",
    "print(response)"
   ]
  },
  {
   "cell_type": "code",
   "execution_count": 29,
   "metadata": {},
   "outputs": [
    {
     "name": "stdout",
     "output_type": "stream",
     "text": [
      "Entities:\n",
      "- User\n",
      "- Event\n",
      "- Artist\n",
      "- Venue\n",
      "\n",
      "Relationships:\n",
      "- User can search for events\n",
      "- Event has a lineup of artists\n",
      "- Event takes place at a venue\n",
      "- User can track favorite artists\n",
      "- User can receive personalized recommendations based on music preferences.\n"
     ]
    }
   ],
   "source": [
    "text = \"\"\"\n",
    "A platform that provides information about upcoming music events, festivals, and concerts. The platform would allow users to search for events by location, genre, and date, and would provide detailed information about each event, including the lineup, venue, and ticket prices. Users could also create profiles to track their favorite artists and receive personalized recommendations for events based on their music preferences.\n",
    "\"\"\"\n",
    "prompt = f\"\"\"\n",
    "You will be provided with text delimited by triple quotes. \n",
    "If it contains a project description or idea, \\ \n",
    "Design a data model by providing all entites and their relationshiop.\n",
    "\n",
    "If the text does not contain a project description or idea, \\ \n",
    "then simply write \\\"No project description or idea provided.\\\"\n",
    "```{text}```\n",
    "\"\"\"\n",
    "response = get_completion(prompt)\n",
    "print(response)"
   ]
  },
  {
   "cell_type": "code",
   "execution_count": 24,
   "metadata": {},
   "outputs": [
    {
     "name": "stdout",
     "output_type": "stream",
     "text": [
      "datasource db {\n",
      "  provider = \"postgresql\"\n",
      "  url      = env(\"DATABASE_URL\")\n",
      "}\n",
      "\n",
      "generator client {\n",
      "  provider = \"prisma-client-js\"\n",
      "}\n",
      "\n",
      "model User {\n",
      "  id        Int      @id @default(autoincrement())\n",
      "  email     String   @unique\n",
      "  password  String\n",
      "  createdAt DateTime @default(now())\n",
      "  updatedAt DateTime @updatedAt\n",
      "}\n",
      "\n",
      "model Event {\n",
      "  id          Int      @id @default(autoincrement())\n",
      "  name        String\n",
      "  description String?\n",
      "  date        DateTime\n",
      "  venue       String\n",
      "  location    String\n",
      "  genre       String\n",
      "  lineup      String[]\n",
      "  ticketPrice Float\n",
      "  createdAt   DateTime @default(now())\n",
      "  updatedAt   DateTime @updatedAt\n",
      "}\n",
      "\n",
      "model Favorite {\n",
      "  id        Int      @id @default(autoincrement())\n",
      "  user      User     @relation(fields: [userId], references: [id])\n",
      "  userId    Int\n",
      "  event     Event    @relation(fields: [eventId], references: [id])\n",
      "  eventId   Int\n",
      "  createdAt DateTime @default(now())\n",
      "  updatedAt DateTime @updatedAt\n",
      "}\n"
     ]
    }
   ],
   "source": [
    "text = \"\"\"\n",
    "A platform similar to Resident Advisor that provides information about upcoming music events, festivals, and concerts. The platform would allow users to search for events by location, genre, and date, and would provide detailed information about each event, including the lineup, venue, and ticket prices. Users could also create profiles to track their favorite artists and receive personalized recommendations for events based on their music preferences. The platform could generate revenue through ticket sales and partnerships with event organizers and sponsors. \n",
    "\"\"\"\n",
    "prompt = f\"\"\"\n",
    "You will be provided with text delimited by triple quotes. \n",
    "If it contains a project description, \\ \n",
    "Provide the schemas in .prisma format.\n",
    "\n",
    "If the text does not contain a project description or idea, \\ \n",
    "then simply write \\\"No project description or idea provided.\\\"\n",
    "```{text}```\n",
    "\"\"\"\n",
    "response = get_completion(prompt)\n",
    "print(response)"
   ]
  },
  {
   "attachments": {},
   "cell_type": "markdown",
   "metadata": {},
   "source": [
    "### Keeping the project description symantically consistent "
   ]
  },
  {
   "cell_type": "code",
   "execution_count": 27,
   "metadata": {},
   "outputs": [
    {
     "name": "stdout",
     "output_type": "stream",
     "text": [
      "Irrelevant Information 1 - \"similar to Resident Advisor\" : Comparison with another platform is not relevant to the project description.\n",
      "Irrelevant Information 2 - \"generate revenue through ticket sales and partnerships with event organizers and sponsors\" : This information is not directly related to the system functionalities.\n",
      "\n",
      "The relevant project description is:\n",
      "A platform that provides information about upcoming music events, festivals, and concerts. The platform would allow users to search for events by location, genre, and date, and would provide detailed information about each event, including the lineup, venue, and ticket prices. Users could also create profiles to track their favorite artists and receive personalized recommendations for events based on their music preferences.\n"
     ]
    }
   ],
   "source": [
    "text = \"\"\"\n",
    "A platform similar to Resident Advisor that provides information about upcoming music events, festivals, and concerts. The platform would allow users to search for events by location, genre, and date, and would provide detailed information about each event, including the lineup, venue, and ticket prices. Users could also create profiles to track their favorite artists and receive personalized recommendations for events based on their music preferences. The platform could generate revenue through ticket sales and partnerships with event organizers and sponsors. \n",
    "\"\"\"\n",
    "prompt = f\"\"\"\n",
    "You will be provided with text delimited by triple quotes. \n",
    "Check if the description consist only the system funtionalities. \\ \n",
    "List all the irrelavnt information stating the reason of irrelavance in the following format.\n",
    "\n",
    "Irrelavnt Information  1 - Part of text : reason of irrelavance\n",
    "Irrelavnt Information   2 - Part of text : reason of irrelavance\n",
    "…\n",
    "Irrelavnt Information   N - Part of text : reason of irrelavance\n",
    "\n",
    "Finally, remove the irrelavant infromation and output the text.\n",
    "\n",
    "If the text does not contain a project description, \\ \n",
    "then simply write \\\"No project description.\\\"\n",
    "```{text}```\n",
    "\"\"\"\n",
    "response = get_completion(prompt)\n",
    "print(response)"
   ]
  }
 ],
 "metadata": {
  "kernelspec": {
   "display_name": "Python 3",
   "language": "python",
   "name": "python3"
  },
  "language_info": {
   "codemirror_mode": {
    "name": "ipython",
    "version": 3
   },
   "file_extension": ".py",
   "mimetype": "text/x-python",
   "name": "python",
   "nbconvert_exporter": "python",
   "pygments_lexer": "ipython3",
   "version": "3.11.4"
  },
  "orig_nbformat": 4
 },
 "nbformat": 4,
 "nbformat_minor": 2
}
